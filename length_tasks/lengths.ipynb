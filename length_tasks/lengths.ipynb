{
 "cells": [
  {
   "cell_type": "code",
   "execution_count": 32,
   "metadata": {
    "collapsed": true
   },
   "outputs": [],
   "source": [
    "from cltk.corpus.utils.importer import CorpusImporter"
   ]
  },
  {
   "cell_type": "code",
   "execution_count": 33,
   "metadata": {
    "collapsed": false
   },
   "outputs": [],
   "source": [
    "# import a text corpus with CLTK\n",
    "corpus_importer = CorpusImporter('latin')"
   ]
  },
  {
   "cell_type": "code",
   "execution_count": 34,
   "metadata": {
    "collapsed": false
   },
   "outputs": [
    {
     "data": {
      "text/plain": [
       "['latin_text_perseus',\n",
       " 'latin_treebank_perseus',\n",
       " 'latin_text_latin_library',\n",
       " 'phi5',\n",
       " 'phi7',\n",
       " 'latin_proper_names_cltk',\n",
       " 'latin_models_cltk',\n",
       " 'latin_pos_lemmata_cltk',\n",
       " 'latin_treebank_index_thomisticus',\n",
       " 'latin_lexica_perseus',\n",
       " 'latin_training_set_sentence_cltk',\n",
       " 'latin_word2vec_cltk',\n",
       " 'latin_text_antique_digiliblt',\n",
       " 'latin_text_corpus_grammaticorum_latinorum',\n",
       " 'latin_text_poeti_ditalia']"
      ]
     },
     "execution_count": 34,
     "metadata": {},
     "output_type": "execute_result"
    }
   ],
   "source": [
    "corpus_importer.list_corpora"
   ]
  },
  {
   "cell_type": "code",
   "execution_count": 35,
   "metadata": {
    "collapsed": true
   },
   "outputs": [],
   "source": [
    "corpus_importer.import_corpus('latin_models_cltk')"
   ]
  },
  {
   "cell_type": "code",
   "execution_count": 38,
   "metadata": {
    "collapsed": true
   },
   "outputs": [],
   "source": [
    "# Open a text from the corpus\n",
    "import os\n",
    "os.chdir('/Users/apple/cltk_data/latin/text/latin_text_latin_library')\n",
    "f = open('nemesianus1.txt')\n",
    "data = f.read()"
   ]
  },
  {
   "cell_type": "code",
   "execution_count": 43,
   "metadata": {
    "collapsed": false
   },
   "outputs": [
    {
     "name": "stdout",
     "output_type": "stream",
     "text": [
      "38\n",
      "['Nemesianus:', 'Ecloga I\\n\\t\\t \\n\\n\\t\\t \\n\\t\\t \\n\\t \\n\\t\\n \\n\\n NEMESIANUS ECLOGA I \\n\\n \\n\\n \\nLUSUS \\n\\n \\nTHYMOETHAS\\n \\n\\n \"Dum fiscella tibi fluviali, Tityre, iunco \\ntexitur et raucis immunia rura cicadis, \\nincipe, si quod habes gracili sub harundine carmen \\ncompositum.', 'Nam te calamos inflare labello \\nPan docuit versuque bonus tibi favit Apollo.', 'Incipe, dum salices haedi, dum gramina vaccae \\ndetondent, viridique greges permittere campo \\ndum ros et primi suadet clementia solis.', 'TITYRVS\\n \\n\\n Hos annos canamque comam, vicine Thymoeta, \\ntu iuvenis carusque deis in carmina cogis?', 'Diximus et calamis versus cantavimus olim, \\ndum secura hilares aetas ludebat amores.', 'Nunc album caput et veneres tepuere sub annis; \\niam mea ruricolae dependet fistula Fauno.', 'Te nunc rura sonant; nuper nam carmine victor \\nrisisti calamos et dissona flamina Mopsi \\niudice me:', 'mecum senior Meliboeus utrumque \\naudierat laudesque tuas sublime ferebat.', 'Quem nunc emeritae permensum tempora vitae \\nsecreti pars orbis habet mundusque piorum.', 'Quare age, si qua tibi Meliboei gratia vivit, \\ndicat honoratos praedulcis tibia manes.', 'THYMOETAS\\n \\n\\n Et parere decet iussis et grata iubentur.', 'Namque fuit dignus senior, quem carmine Phoebus, \\nPan calamis, fidibus Linus aut Oeagrius Orpheus \\nconcinerent totque acta viri laudesque sonarent.', 'Sed quia tu nostrae laudem deposcis avenae, \\naccipe quae super haec cerasus, quam cernis ad amnem \\ncontinet, inciso servans mea carmina libro.', 'TITYRVS\\n \\n\\n Dic age; sed nobis ne vento garrula pinus \\nobstrepat, has ulmos potius fagosque petamus.', 'THYMOETAS\\n \\n\\n Hic cantare libet:', 'virides nam subicit herbas \\nmollis ager lateque tacet nemus omne; quieti \\naspice ut ecce procul decerpant gramina tauri \\nOmniparens aether et rerum causa, liquores, \\ncorporis et genetrix tellus, vitalis et aer, \\naccipite hos cantus atque haec nostro Meliboeo \\nmittite, si sentire datur post fata quietis.', 'Nam si sublimes animae caelestia templa \\nsidereasque colunt sedes mundoque fruuntur, \\ntu nostros adverte modos, quos ipse benigno \\npectore fovisti, quos tu, Meliboee, probasti.', 'Longa tibi cunctisque diu spectata senectus \\nfelicesque anni nostrique novissimus aevi \\ncirculus innocuae clauserunt tempora vitae.', 'Nec minus hinc nobis gemitus lacrimaeque fuere, \\nquam si florentes mors invida carperet annos, \\nnec tenuit tales communis causa querelas.', 'Heu, Meliboee, iaces mortali frigore segnis \\nlege hominum, caelo dignus canente senecta \\nconcilioque deum.', 'Plenum tibi ponderis aequi \\npectus erat.', 'Tu ruricolum discernere lites \\nassueras, varias patiens mulcendo querelas.', 'Sub te ruris amor, sub te reverentia iuris \\nfloruit, ambiguos signavit terminus agros.', 'Blanda tibi vultu gravitas et mite serena \\nfronte supercilium, sed pectus mitius ore.', 'Tu, calamos aptare labris et iungere cera \\nhortatus, duras docuisti fallere curas.', 'Nec segnem passus nobis marcere iuventam \\nsaepe dabas meritae non vilia praemia musae.', 'Saepe etiam senior, ne nos cantare pigeret, \\nlaetus Phoebea dixisti carmen avena.', 'Felix o Meliboee, vale! Tibi frondis odorae \\nmunera dat lauros carpens ruralis Apollo; \\ndant Fauni quod quisque valet, de vite racemos, \\nde messi culmos omnique ex arbore fruges; \\ndat grandaeva Pales spumantia cymbia lacte, \\nmella ferunt Nymphae, pictas dat Flora coronas.', 'Manibus hic supremus honor:', 'dant carmina Musae, \\ncarmina dant Musae, nos et modulamur avena.', 'Silvestris te nunc platanus, Meliboee, susurrat, \\nte pinus; reboat te quidquid carminis echo \\nrespondet silvae; te nostra armenta loquuntur.', 'Namque prius siccis phocae pascentur in arvis \\nvestitusque freto vivet leo, dulcia mella \\nsudabunt taxi, confusis legibus anni \\nmessem tristis hiems, aestas tractabit olivam, \\nante dabit flores autumnus, ver dabit uvas, \\nquam taceat, Meliboee, tuas mea fistula laudes.', 'TITYRVS\\n \\n\\n Perge puer, coeptumque tibi ne desere carmen.', 'Nam sic dulce sonas ut te placatus Apollo \\nprovehat et felix dominam perducat in urbem.', 'Iamque hic in silvis praesens tibi Fama benignum \\nstravit iter, rumpens livoris nubila pinnis.', 'Sed iam Sol demittit equos de culmine mundi, \\nfulmineos suadens gregibus praebere liquores\".', 'Nemesianus \\n\\t The Latin Library \\n\\t The Classics Page']\n"
     ]
    }
   ],
   "source": [
    "# Use a sentence tokenizer\n",
    "from cltk.tokenize.sentence import TokenizeSentence\n",
    "tokenizer = TokenizeSentence('latin')\n",
    "sentences = tokenizer.tokenize_sentences(data)\n",
    "print (len(sentences))\n",
    "print (sentences)"
   ]
  },
  {
   "cell_type": "code",
   "execution_count": 56,
   "metadata": {
    "collapsed": false
   },
   "outputs": [
    {
     "name": "stdout",
     "output_type": "stream",
     "text": [
      "[1, 25, 14, 16, 14, 10, 11, 14, 10, 13, 12, 7, 22, 16, 14, 4, 38, 22, 19, 18, 15, 6, 9, 12, 11, 11, 12, 9, 38, 3, 8, 19, 36, 8, 11, 13, 11, 7]\n",
      "['Nemesianus', 'Ecloga', 'I', 'NEMESIANUS', 'ECLOGA', 'I', 'LUSUS', 'THYMOETHAS', 'Dum', 'fiscella', 'tibi', 'fluviali', 'Tityre', 'iunco', 'texitur', 'raucis', 'immunia', 'rura', 'cicadis', 'incipe', 'quod', 'habes', 'gracili', 'harundine', 'carmen', 'compositum', 'Nam', 'te', 'calamos', 'inflare', 'labello', 'Pa', '-ne', 'docuit', 'versu', '-que', 'bonus', 'tibi', 'favit', 'Apollo', 'Incipe', 'salices', 'haedi', 'gramina', 'vaccae', 'detondent', 'viridi', '-que', 'greges', 'permittere', 'campo', 'ros', 'primi', 'suadet', 'clementia', 'solis', 'TITYRVS', 'Hos', 'annos', 'canam', '-que', 'comam', 'vicine', 'Thymoeta', 'iuvenis', 'carus', '-que', 'deis', 'carmina', 'cogis', 'Diximus', 'calamis', 'versus', 'cantavimus', 'olim', 'secura', 'hilares', 'aetas', 'ludebat', 'amores', 'Nunc', 'album', 'caput', 'veneres', 'tepuere', 'annis', 'mea', 'ruricolae', 'dependet', 'fistula', 'Fauno', 'Te', 'nunc', 'rura', 'sonant', 'nuper', 'carmine', 'victor', 'risisti', 'calamos', 'dissona', 'flamina', 'Mopsi', 'iudice', 'me', 'me', 'senior', 'Meliboeus', 'utrumque', 'audierat', 'laudes', '-que', 'tuas', 'sublime', 'ferebat', 'Quem', 'nunc', 'emeritae', 'permensum', 'tempora', 'vitae', 'secreti', 'pars', 'orbis', 'habet', 'mundus', '-que', 'piorum', 'Quare', 'age', 'qua', 'tibi', 'Meliboei', 'gratia', 'vivit', 'dicat', 'honoratos', 'praedulcis', 'tibia', 'manes', 'THYMOETAS', 'Et', 'parere', 'decet', 'iussis', 'grata', 'iubentur', 'Namque', 'fuit', 'dignus', 'senior', 'quem', 'carmine', 'Phoebus', 'Pa', '-ne', 'calamis', 'fidibus', 'Linus', 'Oeagrius', 'Orpheus', 'concinerent', 'tot', '-que', 'acta', 'viri', 'laudes', '-que', 'sonarent', 'Sed', 'nostrae', 'laudem', 'deposcis', 'avenae', 'accipe', 'haec', 'cerasus', 'cernis', 'amnem', 'continet', 'inciso', 'servans', 'mea', 'carmina', 'libro', 'TITYRVS', 'Dic', 'age', 'nobis', 'vento', 'garrula', 'pinus', 'obstrepat', 'has', 'ulmos', 'potius', 'fagos', '-que', 'petamus', 'THYMOETAS', 'Hic', 'cantare', 'libet', 'virides', 'subicit', 'herbas', 'mollis', 'ager', 'late', '-que', 'tacet', 'nemus', 'omne', 'quieti', 'aspice', 'ecce', 'procul', 'decerpant', 'gramina', 'tauri', 'Omniparens', 'aether', 'rerum', 'causa', 'liquores', 'corporis', 'genetrix', 'tellus', 'vitalis', 'aer', 'accipite', 'hos', 'cantus', 'haec', 'nostro', 'Meliboeo', 'mittite', 'sentire', 'datur', 'fata', 'quietis', 'Nam', 'sublimes', 'animae', 'caelestia', 'templa', 'sidereas', '-que', 'colunt', 'sedes', 'mundo', '-que', 'fruuntur', 'nostros', 'adverte', 'modos', 'quos', 'benigno', 'pectore', 'fovisti', 'quos', 'Meliboee', 'probasti', 'Longa', 'tibi', 'cunctis', '-que', 'diu', 'spectata', 'senectus', 'felices', '-que', 'anni', 'nostri', '-que', 'novissimus', 'aevi', 'circulus', 'innocuae', 'clauserunt', 'tempora', 'vitae', 'Nec', 'minus', 'hinc', 'nobis', 'gemitus', 'lacrimae', '-que', 'fuere', 'florentes', 'mors', 'invida', 'carperet', 'annos', 'tenuit', 'tales', 'communis', 'causa', 'querelas', 'Heu', 'Meliboee', 'iaces', 'mortali', 'frigore', 'segnis', 'lege', 'hominum', 'caelo', 'dignus', 'canente', 'senecta', 'concilio', '-que', 'deum', 'Plenum', 'tibi', 'ponderis', 'aequi', 'pectus', 'erat', 'Tu', 'ruricolum', 'discernere', 'lites', 'assueras', 'varias', 'patiens', 'mulcendo', 'querelas', 'Sub', 'te', 'ruris', 'amor', 'te', 'reverentia', 'iuris', 'floruit', 'ambiguos', 'signavit', 'terminus', 'agros', 'Blanda', 'tibi', 'vultu', 'gravitas', 'mite', 'serena', 'fronte', 'supercilium', 'pectus', 'mitius', 'ore', 'Tu', 'calamos', 'aptare', 'labris', 'iungere', 'cera', 'hortatus', 'duras', 'docuisti', 'fallere', 'curas', 'Nec', 'segnem', 'passus', 'nobis', 'marcere', 'iuventam', 'saepe', 'dabas', 'meritae', 'vilia', 'praemia', 'musae', 'Saepe', 'senior', 'cantare', 'pigeret', 'laetus', 'Phoebea', 'dixisti', 'carmen', 'avena', 'Felix', 'Meliboee', 'vale', '!', 'Tibi', 'frondis', 'odorae', 'munera', 'dat', 'lauros', 'carpens', 'ruralis', 'Apollo', 'dant', 'Fauni', 'quod', 'valet', 'vite', 'racemos', 'messi', 'culmos', 'omni', '-que', 'arbore', 'fruges', 'dat', 'grandaeva', 'Pales', 'spumantia', 'cymbia', 'lacte', 'mella', 'ferunt', 'Nymphae', 'pictas', 'dat', 'Flora', 'coronas', 'Manibus', 'supremus', 'honor', 'dant', 'carmina', 'Musae', 'carmina', 'dant', 'Musae', 'modulamur', 'avena', 'Silvestris', 'te', 'nunc', 'platanus', 'Meliboee', 'susurrat', 'te', 'pinus', 'reboat', 'te', 'quidquid', 'carminis', 'echo', 'respondet', 'silvae', 'te', 'nostra', 'armenta', 'loquuntur', 'Namque', 'prius', 'siccis', 'phocae', 'pascentur', 'arvis', 'vestitus', '-que', 'freto', 'vivet', 'leo', 'dulcia', 'mella', 'sudabunt', 'taxi', 'confusis', 'legibus', 'anni', 'messem', 'tristis', 'hiems', 'aestas', 'tractabit', 'olivam', 'dabit', 'flores', 'autumnus', 'ver', 'dabit', 'uvas', 'taceat', 'Meliboee', 'tuas', 'mea', 'fistula', 'laudes', 'TITYRVS', 'Perge', 'puer', 'coeptum', '-que', 'tibi', 'desere', 'carmen', 'Nam', 'dulce', 'sonas', 'te', 'placatus', 'Apollo', 'provehat', 'felix', 'dominam', 'perducat', 'urbem', 'Iam', '-que', 'silvis', 'praesens', 'tibi', 'Fama', 'benignum', 'stravit', 'iter', 'rumpens', 'livoris', 'nubila', 'pinnis', 'Sed', 'Sol', 'demittit', 'equos', 'culmine', 'mundi', 'fulmineos', 'suadens', 'gregibus', 'praebere', 'liquores', 'Nemesianus', 'The', 'Latin', 'Library', 'The', 'Classics', 'Page']\n",
      "['Nemesianus', 'Ecloga', 'I', 'NEMESIANUS', 'ECLOGA', 'LUSUS', 'THYMOETHAS', 'Dum', 'fiscella', 'tibi', 'fluviali', 'Tityre', 'iunco', 'texitur', 'raucis', 'immunia', 'rura', 'cicadis', 'incipe', 'quod', 'habes', 'gracili', 'harundine', 'carmen', 'compositum', 'Nam', 'te', 'calamos', 'inflare', 'labello', 'Pa', '-ne', 'docuit', 'versu', '-que', 'bonus', 'favit', 'Apollo', 'Incipe', 'salices', 'haedi', 'gramina', 'vaccae', 'detondent', 'viridi', 'greges', 'permittere', 'campo', 'ros', 'primi', 'suadet', 'clementia', 'solis', 'TITYRVS', 'Hos', 'annos', 'canam', 'comam', 'vicine', 'Thymoeta', 'iuvenis', 'carus', 'deis', 'carmina', 'cogis', 'Diximus', 'calamis', 'versus', 'cantavimus', 'olim', 'secura', 'hilares', 'aetas', 'ludebat', 'amores', 'Nunc', 'album', 'caput', 'veneres', 'tepuere', 'annis', 'mea', 'ruricolae', 'dependet', 'fistula', 'Fauno', 'Te', 'nunc', 'sonant', 'nuper', 'carmine', 'victor', 'risisti', 'dissona', 'flamina', 'Mopsi', 'iudice', 'me', 'senior', 'Meliboeus', 'utrumque', 'audierat', 'laudes', 'tuas', 'sublime', 'ferebat', 'Quem', 'emeritae', 'permensum', 'tempora', 'vitae', 'secreti', 'pars', 'orbis', 'habet', 'mundus', 'piorum', 'Quare', 'age', 'qua', 'Meliboei', 'gratia', 'vivit', 'dicat', 'honoratos', 'praedulcis', 'tibia', 'manes', 'THYMOETAS', 'Et', 'parere', 'decet', 'iussis', 'grata', 'iubentur', 'Namque', 'fuit', 'dignus', 'quem', 'Phoebus', 'fidibus', 'Linus', 'Oeagrius', 'Orpheus', 'concinerent', 'tot', 'acta', 'viri', 'sonarent', 'Sed', 'nostrae', 'laudem', 'deposcis', 'avenae', 'accipe', 'haec', 'cerasus', 'cernis', 'amnem', 'continet', 'inciso', 'servans', 'libro', 'Dic', 'nobis', 'vento', 'garrula', 'pinus', 'obstrepat', 'has', 'ulmos', 'potius', 'fagos', 'petamus', 'Hic', 'cantare', 'libet', 'virides', 'subicit', 'herbas', 'mollis', 'ager', 'late', 'tacet', 'nemus', 'omne', 'quieti', 'aspice', 'ecce', 'procul', 'decerpant', 'tauri', 'Omniparens', 'aether', 'rerum', 'causa', 'liquores', 'corporis', 'genetrix', 'tellus', 'vitalis', 'aer', 'accipite', 'hos', 'cantus', 'nostro', 'Meliboeo', 'mittite', 'sentire', 'datur', 'fata', 'quietis', 'sublimes', 'animae', 'caelestia', 'templa', 'sidereas', 'colunt', 'sedes', 'mundo', 'fruuntur', 'nostros', 'adverte', 'modos', 'quos', 'benigno', 'pectore', 'fovisti', 'Meliboee', 'probasti', 'Longa', 'cunctis', 'diu', 'spectata', 'senectus', 'felices', 'anni', 'nostri', 'novissimus', 'aevi', 'circulus', 'innocuae', 'clauserunt', 'Nec', 'minus', 'hinc', 'gemitus', 'lacrimae', 'fuere', 'florentes', 'mors', 'invida', 'carperet', 'tenuit', 'tales', 'communis', 'querelas', 'Heu', 'iaces', 'mortali', 'frigore', 'segnis', 'lege', 'hominum', 'caelo', 'canente', 'senecta', 'concilio', 'deum', 'Plenum', 'ponderis', 'aequi', 'pectus', 'erat', 'Tu', 'ruricolum', 'discernere', 'lites', 'assueras', 'varias', 'patiens', 'mulcendo', 'Sub', 'ruris', 'amor', 'reverentia', 'iuris', 'floruit', 'ambiguos', 'signavit', 'terminus', 'agros', 'Blanda', 'vultu', 'gravitas', 'mite', 'serena', 'fronte', 'supercilium', 'mitius', 'ore', 'aptare', 'labris', 'iungere', 'cera', 'hortatus', 'duras', 'docuisti', 'fallere', 'curas', 'segnem', 'passus', 'marcere', 'iuventam', 'saepe', 'dabas', 'meritae', 'vilia', 'praemia', 'musae', 'Saepe', 'pigeret', 'laetus', 'Phoebea', 'dixisti', 'avena', 'Felix', 'vale', '!', 'Tibi', 'frondis', 'odorae', 'munera', 'dat', 'lauros', 'carpens', 'ruralis', 'dant', 'Fauni', 'valet', 'vite', 'racemos', 'messi', 'culmos', 'omni', 'arbore', 'fruges', 'grandaeva', 'Pales', 'spumantia', 'cymbia', 'lacte', 'mella', 'ferunt', 'Nymphae', 'pictas', 'Flora', 'coronas', 'Manibus', 'supremus', 'honor', 'Musae', 'modulamur', 'Silvestris', 'platanus', 'susurrat', 'reboat', 'quidquid', 'carminis', 'echo', 'respondet', 'silvae', 'nostra', 'armenta', 'loquuntur', 'prius', 'siccis', 'phocae', 'pascentur', 'arvis', 'vestitus', 'freto', 'vivet', 'leo', 'dulcia', 'sudabunt', 'taxi', 'confusis', 'legibus', 'messem', 'tristis', 'hiems', 'aestas', 'tractabit', 'olivam', 'dabit', 'flores', 'autumnus', 'ver', 'uvas', 'taceat', 'Perge', 'puer', 'coeptum', 'desere', 'dulce', 'sonas', 'placatus', 'provehat', 'felix', 'dominam', 'perducat', 'urbem', 'Iam', 'silvis', 'praesens', 'Fama', 'benignum', 'stravit', 'iter', 'rumpens', 'livoris', 'nubila', 'pinnis', 'Sol', 'demittit', 'equos', 'culmine', 'mundi', 'fulmineos', 'suadens', 'gregibus', 'praebere', 'The', 'Latin', 'Library', 'Classics', 'Page']\n"
     ]
    }
   ],
   "source": [
    "# Count of word per sentence, unique and otherwise\n",
    "from cltk.tokenize.word import WordTokenizer\n",
    "from cltk.stop.latin.stops import STOPS_LIST\n",
    "word_tokenizer = WordTokenizer('latin')\n",
    "words_per_sentence = []\n",
    "words = []\n",
    "unique_words = []\n",
    "punctuations = ['.', ',', ' ', ':', ';', '?', '\"', '']\n",
    "for sentence in sentences:\n",
    "    tokens = word_tokenizer.tokenize(sentence)\n",
    "    sentence_tokens = [w for w in tokens if not w in STOPS_LIST]\n",
    "    sentence_tokens = [w for w in sentence_tokens if not w in punctuations]\n",
    "    for token in sentence_tokens:\n",
    "        words.append(token)\n",
    "        if token not in unique_words:\n",
    "            unique_words.append(token)\n",
    "    words_per_sentence.append(len(sentence_tokens))\n",
    "print (words_per_sentence)\n",
    "print (words)\n",
    "print (unique_words)"
   ]
  },
  {
   "cell_type": "code",
   "execution_count": 58,
   "metadata": {
    "collapsed": false
   },
   "outputs": [
    {
     "name": "stdout",
     "output_type": "stream",
     "text": [
      "[10, 6, 1, 10, 6, 5, 10, 3, 8, 4, 8, 6, 5, 7, 6, 7, 4, 7, 6, 4, 5, 7, 9, 6, 10, 3, 2, 7, 7, 7, 2, 3, 6, 5, 4, 5, 5, 6, 6, 7, 5, 7, 6, 9, 6, 6, 10, 5, 3, 5, 6, 9, 5, 7, 3, 5, 5, 5, 6, 8, 7, 5, 4, 7, 5, 7, 7, 6, 10, 4, 6, 7, 5, 7, 6, 4, 5, 5, 7, 7, 5, 3, 9, 8, 7, 5, 2, 4, 6, 5, 7, 6, 7, 7, 7, 5, 6, 2, 6, 9, 8, 8, 6, 4, 7, 7, 4, 8, 9, 7, 5, 7, 4, 5, 5, 6, 6, 5, 3, 3, 8, 6, 5, 5, 9, 10, 5, 5, 9, 2, 6, 5, 6, 5, 8, 6, 4, 6, 4, 7, 7, 5, 8, 7, 11, 3, 4, 4, 8, 3, 7, 6, 8, 6, 6, 4, 7, 6, 5, 8, 6, 7, 5, 3, 5, 5, 7, 5, 9, 3, 5, 6, 5, 7, 3, 7, 5, 7, 7, 6, 6, 4, 4, 5, 5, 4, 6, 6, 4, 6, 9, 5, 10, 6, 5, 5, 8, 8, 8, 6, 7, 3, 8, 3, 6, 6, 8, 7, 7, 5, 4, 7, 8, 6, 9, 6, 8, 6, 5, 5, 8, 7, 7, 5, 4, 7, 7, 7, 8, 8, 5, 7, 3, 8, 8, 7, 4, 6, 10, 4, 8, 8, 10, 3, 5, 4, 7, 8, 5, 9, 4, 6, 8, 6, 5, 8, 8, 3, 5, 7, 7, 6, 4, 7, 5, 7, 7, 8, 4, 6, 8, 5, 6, 4, 2, 9, 10, 5, 8, 6, 7, 8, 3, 5, 4, 10, 5, 7, 8, 8, 8, 5, 6, 5, 8, 4, 6, 6, 11, 6, 3, 6, 6, 7, 4, 8, 5, 8, 7, 5, 6, 6, 7, 8, 5, 5, 7, 5, 7, 5, 5, 7, 6, 7, 7, 5, 5, 4, 1, 4, 7, 6, 6, 3, 6, 7, 7, 4, 5, 5, 4, 7, 5, 6, 4, 6, 6, 9, 5, 9, 6, 5, 5, 6, 7, 6, 5, 7, 7, 8, 5, 5, 9, 10, 8, 8, 6, 8, 8, 4, 9, 6, 6, 7, 9, 5, 6, 6, 9, 5, 8, 5, 5, 3, 6, 8, 4, 8, 7, 6, 7, 5, 6, 9, 6, 5, 6, 8, 3, 4, 6, 5, 4, 7, 6, 5, 5, 8, 8, 5, 7, 8, 5, 3, 6, 8, 4, 8, 7, 4, 7, 7, 6, 6, 3, 8, 5, 7, 5, 9, 7, 8, 8, 3, 5, 7, 8, 4]\n"
     ]
    }
   ],
   "source": [
    "# Count number of characters per word, using unique word set\n",
    "char_per_word = []\n",
    "for word in unique_words:\n",
    "    char_per_word.append(len(word))\n",
    "print (char_per_word)"
   ]
  }
 ],
 "metadata": {
  "anaconda-cloud": {},
  "kernelspec": {
   "display_name": "Python [cltk_work]",
   "language": "python",
   "name": "Python [cltk_work]"
  },
  "language_info": {
   "codemirror_mode": {
    "name": "ipython",
    "version": 3
   },
   "file_extension": ".py",
   "mimetype": "text/x-python",
   "name": "python",
   "nbconvert_exporter": "python",
   "pygments_lexer": "ipython3",
   "version": "3.5.2"
  }
 },
 "nbformat": 4,
 "nbformat_minor": 0
}
