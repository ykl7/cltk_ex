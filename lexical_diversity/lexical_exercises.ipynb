{
 "cells": [
  {
   "cell_type": "code",
   "execution_count": 1,
   "metadata": {
    "collapsed": true
   },
   "outputs": [],
   "source": [
    "from cltk.corpus.utils.importer import CorpusImporter"
   ]
  },
  {
   "cell_type": "code",
   "execution_count": 2,
   "metadata": {
    "collapsed": false
   },
   "outputs": [],
   "source": [
    "# import a text corpus with CLTK\n",
    "corpus_importer = CorpusImporter('latin')"
   ]
  },
  {
   "cell_type": "code",
   "execution_count": 3,
   "metadata": {
    "collapsed": false
   },
   "outputs": [
    {
     "data": {
      "text/plain": [
       "['latin_text_perseus',\n",
       " 'latin_treebank_perseus',\n",
       " 'latin_text_latin_library',\n",
       " 'phi5',\n",
       " 'phi7',\n",
       " 'latin_proper_names_cltk',\n",
       " 'latin_models_cltk',\n",
       " 'latin_pos_lemmata_cltk',\n",
       " 'latin_treebank_index_thomisticus',\n",
       " 'latin_lexica_perseus',\n",
       " 'latin_training_set_sentence_cltk',\n",
       " 'latin_word2vec_cltk',\n",
       " 'latin_text_antique_digiliblt',\n",
       " 'latin_text_corpus_grammaticorum_latinorum',\n",
       " 'latin_text_poeti_ditalia']"
      ]
     },
     "execution_count": 3,
     "metadata": {},
     "output_type": "execute_result"
    }
   ],
   "source": [
    "corpus_importer.list_corpora"
   ]
  },
  {
   "cell_type": "code",
   "execution_count": 4,
   "metadata": {
    "collapsed": false
   },
   "outputs": [],
   "source": [
    "# Open a text from the corpus\n",
    "import os\n",
    "os.chdir('/Users/apple/cltk_data/latin/text/latin_text_latin_library')\n",
    "f = open('nemesianus1.txt')"
   ]
  },
  {
   "cell_type": "code",
   "execution_count": 5,
   "metadata": {
    "collapsed": false
   },
   "outputs": [
    {
     "name": "stdout",
     "output_type": "stream",
     "text": [
      "Nemesianus: Eclog I\n",
      "\t\t \n",
      "\n",
      "\t\t \n",
      "\t\t \n",
      "\t \n",
      "\t\n",
      " \n",
      "\n",
      " NEMESIANUS ECLOGA I \n",
      "\n",
      " \n",
      "\n",
      " \n",
      "LUSUS \n",
      "\n",
      " \n",
      "THYMOETHAS\n",
      " \n",
      "\n",
      " \"D fiscell tib fluviali, Tityre, iunc \n",
      "texi et rauc immun rur cicadis, \n",
      "incipe, si quod hab gracil sub harundin carmen \n",
      "compositum. N t calam inflar labell \n",
      "Pan docui vers bon tib favi Apollo. \n",
      "Incipe, dum salic haedi, dum gramin vacc \n",
      "detondent, virid greg permitter camp \n",
      "d r et prim suade clement solis.\n",
      " \n",
      "\n",
      " \n",
      "TITYRVS\n",
      " \n",
      "\n",
      " H ann can comam, vicin Thymoeta, \n",
      "t iuven car de in carmin cogis? \n",
      "Dixim et calam vers cantavim olim, \n",
      "d secur hilar aet ludeba amores. \n",
      "Nunc alb capu et vener tepuer sub annis; \n",
      "i me ruricol depende fistul Fauno. \n",
      "T nunc rur sonant; nupe nam carmin victo \n",
      "risist calam et disson flamin Mops \n",
      "iudic me: mec senio Meliboe utr \n",
      "audiera laud tu sublim ferebat. \n",
      "Qu nunc emerit permens tempor vit \n",
      "secret par orb habe mund piorum. \n",
      "Quar age, si qu tib Meliboe grat vivit, \n",
      "dica honorat praedulc tib manes.\n",
      " \n",
      "\n",
      " \n",
      "THYMOETAS\n",
      " \n",
      "\n",
      " E parer dece iuss et grat iubentur. \n",
      "N fui dign senior, qu carmin Phoebus, \n",
      "Pan calamis, fid Lin aut Oeagr Orphe \n",
      "concinere to act vir laud sonarent. \n",
      "Sed quia tu nostr laud deposc avenae, \n",
      "accip quae super haec cerasus, quam cern ad amn \n",
      "continet, incis serva me carmin libro.\n",
      " \n",
      "\n",
      " \n",
      "TITYRVS\n",
      " \n",
      "\n",
      " Dic age; sed nob ne vent garrul pin \n",
      "obstrepat, h ulm pot fag petamus.\n",
      " \n",
      "\n",
      " \n",
      "THYMOETAS\n",
      " \n",
      "\n",
      " Hic cantar libet: virid nam subici herb \n",
      "moll age lat tace nem omne; quiet \n",
      "aspic ut ecc procul decerpa gramin taur \n",
      "Omnipare aethe et rer causa, liquores, \n",
      "corpor et genetrix tellus, vital et aer, \n",
      "accipit h cant atque haec nostr Meliboe \n",
      "mittite, si sentir da post fat quietis. \n",
      "N si sublim anim caelest templ \n",
      "sidere colu sed mund fruuntur, \n",
      "t nostr advert modos, qu ipse benign \n",
      "pector fovisti, qu tu, Meliboee, probasti. \n",
      "Long tib cunct di spectat senect \n",
      "felic ann nostr novissim aev \n",
      "circul innocu clauseru tempor vitae. \n",
      "Nec min hinc nob gemit lacrim fuere, \n",
      "qu si florent mor invid carpere annos, \n",
      "nec tenui tal commun caus querelas. \n",
      "Heu, Meliboee, iac mortal frigor segn \n",
      "leg hominum, cael dign canent senect \n",
      "concili deum. Plen tib ponder aequ \n",
      "pect erat. T ruricol discerner lit \n",
      "assueras, vari patie mulcend querelas. \n",
      "Sub t rur amor, sub t reverent iur \n",
      "floruit, ambigu signavi termin agros. \n",
      "Bland tib vult gravit et mit seren \n",
      "front supercilium, sed pect mit ore. \n",
      "Tu, calam aptar labr et iunger cer \n",
      "hortatus, dur docuist faller curas. \n",
      "Nec segn pass nob marcer iuvent \n",
      "saep dab merit non vil praem musae. \n",
      "Saep etiam senior, ne nos cantar pigeret, \n",
      "laet Phoebe dixist carmen avena. \n",
      "Felix o Meliboee, vale! Tib frond odor \n",
      "muner da laur carpe rural Apollo; \n",
      "da Faun quod quisque valet, de vit racemos, \n",
      "d mess culm omn ex arbor fruges; \n",
      "da grandaev Pal spumant cymb lacte, \n",
      "mell feru Nymphae, pict da Flor coronas. \n",
      "Man hic suprem honor: da carmin Musae, \n",
      "carmin da Musae, nos et modula avena. \n",
      "Silvestr t nunc platanus, Meliboee, susurrat, \n",
      "t pinus; reboa t quidquid carmin ech \n",
      "responde silvae; t nostr arment loquuntur. \n",
      "N pr sicc phoc pasce in arv \n",
      "vestit fret vive leo, dulc mell \n",
      "sudabu taxi, confus leg ann \n",
      "mess trist hiems, aest tractabi olivam, \n",
      "ant dabi flor autumnus, ve dabi uvas, \n",
      "qu taceat, Meliboee, tu me fistul laudes.\n",
      " \n",
      "\n",
      " \n",
      "TITYRVS\n",
      " \n",
      "\n",
      " Perg puer, coept tib ne deser carmen. \n",
      "N sic dulc son ut t placat Apoll \n",
      "proveha et felix domin perduca in urbem. \n",
      "I hic in silv praese tib Fam benign \n",
      "stravi iter, rumpe livor nubil pinnis. \n",
      "Sed iam Sol demitti equ de culmin mundi, \n",
      "fulmine suade greg praeber liquores\".\n",
      " \n",
      "\n",
      " \n",
      "\n",
      " \n",
      " \n",
      " \n",
      "\t Nemesian \n",
      "\t Th Latin Library \n",
      "\t Th Classic Pag \n"
     ]
    }
   ],
   "source": [
    "text = f.read()\n",
    "from cltk.stem.latin.stem import Stemmer\n",
    "stemmer = Stemmer()\n",
    "stemmed_text = stemmer.stem(text)\n",
    "print (stemmed_text)"
   ]
  },
  {
   "cell_type": "code",
   "execution_count": 6,
   "metadata": {
    "collapsed": false
   },
   "outputs": [
    {
     "name": "stdout",
     "output_type": "stream",
     "text": [
      "['Nemesianus', ':', 'Eclog', 'I', 'NEMESIANUS', 'ECLOGA', 'I', 'LUSUS', 'THYMOETHAS', '\"', 'D', 'fiscell', 'tib', 'fluviali', ',', 'Tityre', ',', 'iunc', 'texi', 'et', 'rauc', 'immu', '-ne', 'rur', 'cicadis', ',', 'incipe', ',', 'si', 'quod', 'hab', 'gracil', 'sub', 'harundi', '-ne', 'carmen', 'compositum', '.', 'N', 't', 'calam', 'inflar', 'labell', 'Pa', '-ne', 'docui', 'vers', 'bo', '-ne', 'tib', 'favi', 'Apollo', '.', 'Incipe', ',', 'dum', 'salic', 'haedi', ',', 'dum', 'grami', '-ne', 'vacc', 'detondent', ',', 'virid', 'greg', 'permitter', 'camp', 'd', 'r', 'et', 'prim', 'suade', 'clement', 'solis', '.', 'TITYRVS', 'H', 'an', '-ne', 'ca', '-ne', 'comam', ',', 'vici', '-ne', 'Thymoeta', ',', 't', 'iuve', '-ne', 'car', 'de', 'in', 'carmi', '-ne', 'cogis', '?', 'Dixim', 'et', 'calam', 'vers', 'cantavim', 'olim', ',', 'd', 'secur', 'hilar', 'aet', 'ludeba', 'amores', '.', 'Nunc', 'alb', 'capu', 'et', 'vener', 'tepuer', 'sub', 'annis', ';', 'i', 'me', 'ruricol', 'depende', 'fistul', 'Fauno', '.', 'T', 'nunc', 'rur', 'sonant', ';', 'nupe', 'nam', 'carmi', '-ne', 'victo', 'risi', 'est', 'calam', 'et', 'disso', '-ne', 'flami', '-ne', 'Mops', 'iudic', 'me', ':', 'mec', 'senio', 'Meliboe', 'utr', 'audiera', 'laud', 'tu', 'sublim', 'ferebat', '.', 'Qu', 'nunc', 'emerit', 'permens', 'tempor', 'vit', 'secret', 'par', 'orb', 'habe', 'mund', 'piorum', '.', 'Quar', 'age', ',', 'si', 'qu', 'tib', 'Meliboe', 'grat', 'vivit', ',', 'dica', 'honorat', 'praedulc', 'tib', 'manes', '.', 'THYMOETAS', 'E', 'parer', 'dece', 'iuss', 'et', 'grat', 'iubentur', '.', 'N', 'fui', 'dig', '-ne', 'senior', ',', 'qu', 'carmi', '-ne', 'Phoebus', ',', 'Pa', '-ne', 'calamis', ',', 'fid', 'Li', '-ne', 'aut', 'Oeagr', 'Orphe', 'concinere', 'to', 'act', 'vir', 'laud', 'sonarent', '.', 'Sed', 'quia', 'tu', 'nostr', 'laud', 'deposc', 'avenae', ',', 'accip', 'quae', 'super', 'haec', 'cerasus', ',', 'quam', 'cer', '-ne', 'ad', 'am', '-ne', 'continet', ',', 'incis', 'serva', 'me', 'carmi', '-ne', 'libro', '.', 'TITYRVS', 'Dic', 'age', ';', 'sed', 'nob', 'ne', 'vent', 'garrul', 'pi', '-ne', 'obstrepat', ',', 'h', 'ulm', 'pot', 'fag', 'petamus', '.', 'THYMOETAS', 'Hic', 'cantar', 'libet', ':', 'virid', 'nam', 'subici', 'herb', 'moll', 'age', 'lat', 'tace', 'nem', 'omne', ';', 'quiet', 'aspic', 'ut', 'ecc', 'procul', 'decerpa', 'grami', '-ne', 'taur', 'Omnipare', 'aethe', 'et', 'rer', 'causa', ',', 'liquores', ',', 'corpor', 'et', 'genetrix', 'tellus', ',', 'vital', 'et', 'aer', ',', 'accipit', 'h', 'cant', 'atque', 'haec', 'nostr', 'Meliboe', 'mittite', ',', 'si', 'sentir', 'da', 'post', 'fat', 'quietis', '.', 'N', 'si', 'sublim', 'anim', 'caele', 'est', 'templ', 'sidere', 'colu', 'sed', 'mund', 'fruuntur', ',', 't', 'nostr', 'advert', 'modos', ',', 'qu', 'ipse', 'benig', '-ne', 'pector', 'fovisti', ',', 'qu', 'tu', ',', 'Meliboee', ',', 'probasti', '.', 'Long', 'tib', 'cunct', 'di', 'spectat', 'senect', 'felic', 'an', '-ne', 'nostr', 'novissim', 'aev', 'circul', 'innocu', 'clauseru', 'tempor', 'vitae', '.', 'Nec', 'mi', '-ne', 'hinc', 'nob', 'gemit', 'lacrim', 'fuere', ',', 'qu', 'si', 'florent', 'mor', 'invid', 'carpere', 'annos', ',', 'nec', 'tenui', 'tal', 'commu', '-ne', 'caus', 'querelas', '.', 'Heu', ',', 'Meliboee', ',', 'iac', 'mortal', 'frigor', 'seg', '-ne', 'leg', 'hominum', ',', 'cael', 'dig', '-ne', 'canent', 'senect', 'concili', 'deum', '.', 'Ple', '-ne', 'tib', 'ponder', 'aequ', 'pect', 'erat', '.', 'T', 'ruricol', 'discerner', 'lit', 'assueras', ',', 'vari', 'patie', 'mulcend', 'querelas', '.', 'Sub', 't', 'rur', 'amor', ',', 'sub', 't', 'reverent', 'iur', 'floruit', ',', 'ambigu', 'signavi', 'termi', '-ne', 'agros', '.', 'Bland', 'tib', 'vult', 'gravit', 'et', 'mit', 'sere', '-ne', 'front', 'supercilium', ',', 'sed', 'pect', 'mit', 'ore', '.', 'Tu', ',', 'calam', 'aptar', 'labr', 'et', 'iunger', 'cer', 'hortatus', ',', 'dur', 'docui', 'est', 'faller', 'curas', '.', 'Nec', 'seg', '-ne', 'pass', 'nob', 'marcer', 'iuvent', 'saep', 'dab', 'merit', 'non', 'vil', 'praem', 'musae', '.', 'Saep', 'etiam', 'senior', ',', 'ne', 'nos', 'cantar', 'pigeret', ',', 'laet', 'Phoebe', 'dixi', 'est', 'carmen', 'avena', '.', 'Felix', 'o', 'Meliboee', ',', 'vale', '!', 'Tib', 'frond', 'odor', 'muner', 'da', 'laur', 'carpe', 'rural', 'Apollo', ';', 'da', 'Fau', '-ne', 'quod', 'quisque', 'valet', ',', 'de', 'vit', 'racemos', ',', 'd', 'mess', 'culm', 'om', '-ne', 'ex', 'arbor', 'fruges', ';', 'da', 'grandaev', 'Pal', 'spumant', 'cymb', 'lacte', ',', 'mell', 'feru', 'Nymphae', ',', 'pict', 'da', 'Flor', 'coronas', '.', 'Ma', '-ne', 'hic', 'suprem', 'honor', ':', 'da', 'carmi', '-ne', 'Musae', ',', 'carmi', '-ne', 'da', 'Musae', ',', 'nos', 'et', 'modula', 'avena', '.', 'Silvestr', 't', 'nunc', 'platanus', ',', 'Meliboee', ',', 'susurrat', ',', 't', 'pinus', ';', 'reboa', 't', 'quidquid', 'carmi', '-ne', 'ech', 'responde', 'silvae', ';', 't', 'nostr', 'arment', 'loquuntur', '.', 'N', 'pr', 'sicc', 'phoc', 'pasce', 'in', 'arv', 'vestit', 'fret', 'vive', 'leo', ',', 'dulc', 'mell', 'sudabu', 'taxi', ',', 'confus', 'leg', 'an', '-ne', 'mess', 'tri', 'est', 'hiems', ',', 'ae', 'est', 'tractabi', 'olivam', ',', 'ant', 'dabi', 'flor', 'autumnus', ',', 've', 'dabi', 'uvas', ',', 'qu', 'taceat', ',', 'Meliboee', ',', 'tu', 'me', 'fistul', 'laudes', '.', 'TITYRVS', 'Perg', 'puer', ',', 'coept', 'tib', 'ne', 'deser', 'carmen', '.', 'N', 'sic', 'dulc', 'so', '-ne', 'ut', 't', 'placat', 'Apoll', 'proveha', 'et', 'felix', 'domi', '-ne', 'perduca', 'in', 'urbem', '.', 'I', 'hic', 'in', 'silv', 'praese', 'tib', 'Fam', 'benig', '-ne', 'stravi', 'iter', ',', 'rumpe', 'livor', 'nubil', 'pinnis', '.', 'Sed', 'iam', 'Sol', 'demitti', 'equ', 'de', 'culmi', '-ne', 'mundi', ',', 'fulmine', 'suade', 'greg', 'praeber', 'liquores', '\"', '', '.', 'Nemesia', '-ne', 'Th', 'Latin', 'Library', 'Th', 'Classic', 'Pag']\n"
     ]
    }
   ],
   "source": [
    "# Tokenize words using CLTK's tokenizer\n",
    "from cltk.tokenize.word import WordTokenizer\n",
    "word_tokenizer = WordTokenizer('latin')\n",
    "stemmed_tokens = word_tokenizer.tokenize(stemmed_text)\n",
    "print (stemmed_tokens)"
   ]
  },
  {
   "cell_type": "code",
   "execution_count": 7,
   "metadata": {
    "collapsed": false
   },
   "outputs": [
    {
     "name": "stdout",
     "output_type": "stream",
     "text": [
      "562\n",
      "['Nemesianus', 'Eclog', 'I', 'NEMESIANUS', 'ECLOGA', 'I', 'LUSUS', 'THYMOETHAS', 'D', 'fiscell', 'tib', 'fluviali', 'Tityre', 'iunc', 'texi', 'rauc', 'immu', '-ne', 'rur', 'cicadis', 'incipe', 'quod', 'hab', 'gracil', 'harundi', '-ne', 'carmen', 'compositum', 'N', 't', 'calam', 'inflar', 'labell', 'Pa', '-ne', 'docui', 'vers', 'bo', '-ne', 'tib', 'favi', 'Apollo', 'Incipe', 'salic', 'haedi', 'grami', '-ne', 'vacc', 'detondent', 'virid', 'greg', 'permitter', 'camp', 'd', 'r', 'prim', 'suade', 'clement', 'solis', 'TITYRVS', 'H', '-ne', 'ca', '-ne', 'comam', 'vici', '-ne', 'Thymoeta', 't', 'iuve', '-ne', 'car', 'carmi', '-ne', 'cogis', 'Dixim', 'calam', 'vers', 'cantavim', 'olim', 'd', 'secur', 'hilar', 'aet', 'ludeba', 'amores', 'Nunc', 'alb', 'capu', 'vener', 'tepuer', 'annis', 'i', 'me', 'ruricol', 'depende', 'fistul', 'Fauno', 'T', 'nunc', 'rur', 'sonant', 'nupe', 'carmi', '-ne', 'victo', 'risi', 'calam', 'disso', '-ne', 'flami', '-ne', 'Mops', 'iudic', 'me', 'mec', 'senio', 'Meliboe', 'utr', 'audiera', 'laud', 'sublim', 'ferebat', 'Qu', 'nunc', 'emerit', 'permens', 'tempor', 'vit', 'secret', 'par', 'orb', 'habe', 'mund', 'piorum', 'Quar', 'age', 'qu', 'tib', 'Meliboe', 'grat', 'vivit', 'dica', 'honorat', 'praedulc', 'tib', 'manes', 'THYMOETAS', 'E', 'parer', 'dece', 'iuss', 'grat', 'iubentur', 'N', 'fui', 'dig', '-ne', 'senior', 'qu', 'carmi', '-ne', 'Phoebus', 'Pa', '-ne', 'calamis', 'fid', 'Li', '-ne', 'Oeagr', 'Orphe', 'concinere', 'to', 'act', 'vir', 'laud', 'sonarent', 'Sed', 'nostr', 'laud', 'deposc', 'avenae', 'accip', 'haec', 'cerasus', 'cer', '-ne', 'am', '-ne', 'continet', 'incis', 'serva', 'me', 'carmi', '-ne', 'libro', 'TITYRVS', 'Dic', 'age', 'nob', 'vent', 'garrul', 'pi', '-ne', 'obstrepat', 'h', 'ulm', 'pot', 'fag', 'petamus', 'THYMOETAS', 'Hic', 'cantar', 'libet', 'virid', 'subici', 'herb', 'moll', 'age', 'lat', 'tace', 'nem', 'omne', 'quiet', 'aspic', 'ecc', 'procul', 'decerpa', 'grami', '-ne', 'taur', 'Omnipare', 'aethe', 'rer', 'causa', 'liquores', 'corpor', 'genetrix', 'tellus', 'vital', 'aer', 'accipit', 'h', 'cant', 'haec', 'nostr', 'Meliboe', 'mittite', 'sentir', 'da', 'fat', 'quietis', 'N', 'sublim', 'anim', 'caele', 'templ', 'sidere', 'colu', 'mund', 'fruuntur', 't', 'nostr', 'advert', 'modos', 'qu', 'benig', '-ne', 'pector', 'fovisti', 'qu', 'Meliboee', 'probasti', 'Long', 'tib', 'cunct', 'di', 'spectat', 'senect', 'felic', '-ne', 'nostr', 'novissim', 'aev', 'circul', 'innocu', 'clauseru', 'tempor', 'vitae', 'Nec', 'mi', '-ne', 'hinc', 'nob', 'gemit', 'lacrim', 'fuere', 'qu', 'florent', 'mor', 'invid', 'carpere', 'annos', 'tenui', 'tal', 'commu', '-ne', 'caus', 'querelas', 'Heu', 'Meliboee', 'iac', 'mortal', 'frigor', 'seg', '-ne', 'leg', 'hominum', 'cael', 'dig', '-ne', 'canent', 'senect', 'concili', 'deum', 'Ple', '-ne', 'tib', 'ponder', 'aequ', 'pect', 'erat', 'T', 'ruricol', 'discerner', 'lit', 'assueras', 'vari', 'patie', 'mulcend', 'querelas', 'Sub', 't', 'rur', 'amor', 't', 'reverent', 'iur', 'floruit', 'ambigu', 'signavi', 'termi', '-ne', 'agros', 'Bland', 'tib', 'vult', 'gravit', 'mit', 'sere', '-ne', 'front', 'supercilium', 'pect', 'mit', 'ore', 'Tu', 'calam', 'aptar', 'labr', 'iunger', 'cer', 'hortatus', 'dur', 'docui', 'faller', 'curas', 'Nec', 'seg', '-ne', 'pass', 'nob', 'marcer', 'iuvent', 'saep', 'dab', 'merit', 'vil', 'praem', 'musae', 'Saep', 'senior', 'cantar', 'pigeret', 'laet', 'Phoebe', 'dixi', 'carmen', 'avena', 'Felix', 'Meliboee', 'vale', '!', 'Tib', 'frond', 'odor', 'muner', 'da', 'laur', 'carpe', 'rural', 'Apollo', 'da', 'Fau', '-ne', 'quod', 'valet', 'vit', 'racemos', 'd', 'mess', 'culm', 'om', '-ne', 'arbor', 'fruges', 'da', 'grandaev', 'Pal', 'spumant', 'cymb', 'lacte', 'mell', 'feru', 'Nymphae', 'pict', 'da', 'Flor', 'coronas', 'Ma', '-ne', 'suprem', 'honor', 'da', 'carmi', '-ne', 'Musae', 'carmi', '-ne', 'da', 'Musae', 'modula', 'avena', 'Silvestr', 't', 'nunc', 'platanus', 'Meliboee', 'susurrat', 't', 'pinus', 'reboa', 't', 'quidquid', 'carmi', '-ne', 'ech', 'responde', 'silvae', 't', 'nostr', 'arment', 'loquuntur', 'N', 'pr', 'sicc', 'phoc', 'pasce', 'arv', 'vestit', 'fret', 'vive', 'leo', 'dulc', 'mell', 'sudabu', 'taxi', 'confus', 'leg', '-ne', 'mess', 'tri', 'hiems', 'ae', 'tractabi', 'olivam', 'ant', 'dabi', 'flor', 'autumnus', 've', 'dabi', 'uvas', 'qu', 'taceat', 'Meliboee', 'me', 'fistul', 'laudes', 'TITYRVS', 'Perg', 'puer', 'coept', 'tib', 'deser', 'carmen', 'N', 'dulc', 'so', '-ne', 't', 'placat', 'Apoll', 'proveha', 'felix', 'domi', '-ne', 'perduca', 'urbem', 'I', 'silv', 'praese', 'tib', 'Fam', 'benig', '-ne', 'stravi', 'iter', 'rumpe', 'livor', 'nubil', 'pinnis', 'Sed', 'Sol', 'demitti', 'equ', 'culmi', '-ne', 'mundi', 'fulmine', 'suade', 'greg', 'praeber', 'liquores', 'Nemesia', '-ne', 'Th', 'Latin', 'Library', 'Th', 'Classic', 'Pag']\n"
     ]
    }
   ],
   "source": [
    "# Count total words\n",
    "from cltk.stop.latin.stops import STOPS_LIST\n",
    "all_stemmed_words = [w for w in stemmed_tokens if not w in STOPS_LIST]\n",
    "punctuations = ['.', ',', ' ', ':', ';', '?', '\"', '']\n",
    "all_stemmed_words = [w for w in all_stemmed_words if not w in punctuations]\n",
    "print (len(all_stemmed_words))\n",
    "print (all_stemmed_words)"
   ]
  },
  {
   "cell_type": "code",
   "execution_count": 8,
   "metadata": {
    "collapsed": false
   },
   "outputs": [
    {
     "name": "stdout",
     "output_type": "stream",
     "text": [
      "{'detondent', 'dab', 'mess', 'Apollo', 'mor', 'Long', 'mulcend', 'Tu', 'Omnipare', 'equ', 'tenui', 'laudes', 'iunger', 'cant', 'mundi', 'pinus', 'Orphe', 'calam', 'petamus', 'fovisti', 'arv', 'lit', 'pi', 'flami', 'praem', 'haedi', 'sicc', 'floruit', 'pict', 'demitti', 'Dic', 'iter', 'taxi', 'urbem', 'decerpa', 'livor', 'concinere', 'silvae', 'canent', 'gravit', 'hortatus', 'spumant', 'erat', 'fret', 'libet', 'templ', 'cunct', 'quod', 'alb', 'gemit', 'tepuer', 'sonant', 'Meliboee', 'Mops', 'fruges', 'incis', 'iuvent', 'Musae', 'Bland', 'vult', 'culm', 'cer', 'vestit', 'Sol', 'aethe', 'commu', 'iuss', 'tempor', 'Nemesia', 'autumnus', 'olivam', 'leo', 'dece', 'accip', 'olim', 'Sub', 'circul', 'front', 'iur', 'vici', 'carpe', 'THYMOETHAS', 'iac', 'silv', 'coronas', 'labell', 'ant', 'Quar', 'tib', 'ludeba', 'Nunc', 'stravi', 'hiems', 'Hic', 'patie', 'novissim', 'Thymoeta', 'Li', 'par', 'ulm', 'labr', 'nunc', 'Pal', 'iubentur', 'mortal', 'platanus', 'permens', 'fuere', 'mund', 'subici', 'Nemesianus', 'leg', 'laud', 'audiera', 'camp', 'Felix', 'om', 'ferebat', 'laet', 'dulc', 'pect', 'parer', 'Phoebus', 'puer', 'ecc', 'innocu', 'Ma', 'discerner', 'deum', 'orb', 'hinc', 'Nec', 'me', 'vent', 'ambigu', 'deposc', 'suprem', 'vital', 'praedulc', 'hominum', 'flor', 'sentir', 'secur', 'Classic', 'taur', 'nupe', 'h', 'annos', 'praeber', 'annis', 'sublim', 'capu', 'faller', 'florent', 'agros', 'concili', 'carmen', 'bo', 'cogis', 'cicadis', 'Eclog', 'Fauno', 'Fam', 'fruuntur', 'Heu', 'vacc', 'Tib', 'pr', 'T', 'Saep', 'procul', 'ae', 'fiscell', 'fag', 'placat', 'THYMOETAS', 'pot', 'corpor', 'nob', 'mell', 'sere', 'aequ', 'carmi', 'confus', 'perduca', 'Library', 'TITYRVS', 'senior', 'di', 'carpere', 'valet', 'dixi', 'manes', 'lacrim', 'mit', '!', 'emerit', 'mi', 'honorat', 'pector', 'NEMESIANUS', 'am', 'suade', 'deser', 'liquores', 'mec', 'fulmine', 'lacte', 'felix', 'advert', 'aptar', 'quiet', 'habe', 'amor', 'rauc', 'nem', 'felic', 'act', 'tri', 'risi', 'reboa', '-ne', 'benig', 'fui', 'saep', 'probasti', 'age', 'so', 'secret', 'Th', 'iudic', 'modula', 'to', 'disso', 'LUSUS', 'haec', 'grandaev', 'rumpe', 'invid', 'dabi', 'curas', 'senect', 'salic', 'd', 'H', 'aev', 'feru', 'susurrat', 'D', 'iuve', 't', 'comam', 'supercilium', 'cymb', 'tace', 'rural', 'Tityre', 'spectat', 'senio', 'termi', 'proveha', 'ca', 'vive', 'ponder', 'caus', 'lat', 'N', 'vers', 'harundi', 'mittite', 'domi', 'prim', 'calamis', 'iunc', 'vit', 'vale', 'tal', 'permitter', 'fistul', 'culmi', 'sidere', 'dica', 'responde', 'sonarent', 'uvas', 'colu', 'da', 'inflar', 'compositum', 'docui', 'aet', 'Perg', 'clauseru', 'taceat', 'tractabi', 'signavi', 'clement', 'avena', 'vir', 'utr', 'vari', 'victo', 'avenae', 'frigor', 'Sed', 'greg', 'herb', 'arment', 'virid', 'E', 'ore', 'cantavim', 'assueras', 'coept', 'cantar', 'vil', 'rer', 'fluviali', 'Phoebe', 'grat', 'aspic', 'Ple', 'solis', 'causa', 'Nymphae', 'caele', 'I', 'Silvestr', 'arbor', 'nostr', 'piorum', 'pasce', 'quietis', 'Flor', 'hab', 'frond', 'Incipe', 'laur', 'Apoll', 'car', 'fat', 'Pa', 'muner', 'garrul', 'tellus', 'genetrix', 'Dixim', 'Oeagr', 'cerasus', 'immu', 'seg', 'modos', 'gracil', 'ech', 'amores', 'fid', 'Pag', 'Meliboe', 'Qu', 'obstrepat', 'quidquid', 'loquuntur', 'musae', 've', 'moll', 'vitae', 'nubil', 'honor', 'phoc', 'texi', 'marcer', 'dig', 'r', 'qu', 'merit', 'Latin', 'querelas', 'aer', 'racemos', 'omne', 'sudabu', 'dur', 'pigeret', 'depende', 'accipit', 'cael', 'libro', 'favi', 'praese', 'vivit', 'anim', 'continet', 'serva', 'Fau', 'ruricol', 'pinnis', 'pass', 'ECLOGA', 'incipe', 'vener', 'i', 'odor', 'reverent', 'grami', 'rur', 'hilar'}\n",
      "406\n"
     ]
    }
   ],
   "source": [
    "# Count unique words\n",
    "unique_words = set(all_stemmed_words)\n",
    "print (unique_words)\n",
    "print (len(unique_words))"
   ]
  },
  {
   "cell_type": "code",
   "execution_count": 9,
   "metadata": {
    "collapsed": false
   },
   "outputs": [
    {
     "name": "stdout",
     "output_type": "stream",
     "text": [
      "0.7224199288256228\n"
     ]
    }
   ],
   "source": [
    "# Lexical diversity\n",
    "lexical_diversity = len(unique_words)/len(all_stemmed_words)\n",
    "print (lexical_diversity)"
   ]
  }
 ],
 "metadata": {
  "anaconda-cloud": {},
  "kernelspec": {
   "display_name": "Python [cltk_work]",
   "language": "python",
   "name": "Python [cltk_work]"
  },
  "language_info": {
   "codemirror_mode": {
    "name": "ipython",
    "version": 3
   },
   "file_extension": ".py",
   "mimetype": "text/x-python",
   "name": "python",
   "nbconvert_exporter": "python",
   "pygments_lexer": "ipython3",
   "version": "3.5.2"
  }
 },
 "nbformat": 4,
 "nbformat_minor": 0
}
