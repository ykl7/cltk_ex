{
 "cells": [
  {
   "cell_type": "code",
   "execution_count": 2,
   "metadata": {
    "collapsed": true
   },
   "outputs": [],
   "source": [
    "from cltk.corpus.utils.importer import CorpusImporter"
   ]
  },
  {
   "cell_type": "code",
   "execution_count": 40,
   "metadata": {
    "collapsed": false
   },
   "outputs": [],
   "source": [
    "# import a text corpus with CLTK\n",
    "corpus_importer = CorpusImporter('latin')"
   ]
  },
  {
   "cell_type": "code",
   "execution_count": 41,
   "metadata": {
    "collapsed": false
   },
   "outputs": [
    {
     "data": {
      "text/plain": [
       "['latin_text_perseus',\n",
       " 'latin_treebank_perseus',\n",
       " 'latin_treebank_perseus',\n",
       " 'latin_text_latin_library',\n",
       " 'phi5',\n",
       " 'phi7',\n",
       " 'latin_proper_names_cltk',\n",
       " 'latin_models_cltk',\n",
       " 'latin_pos_lemmata_cltk',\n",
       " 'latin_treebank_index_thomisticus',\n",
       " 'latin_lexica_perseus',\n",
       " 'latin_training_set_sentence_cltk',\n",
       " 'latin_word2vec_cltk',\n",
       " 'latin_text_antique_digiliblt',\n",
       " 'latin_text_corpus_grammaticorum_latinorum']"
      ]
     },
     "execution_count": 41,
     "metadata": {},
     "output_type": "execute_result"
    }
   ],
   "source": [
    "corpus_importer.list_corpora"
   ]
  },
  {
   "cell_type": "code",
   "execution_count": 47,
   "metadata": {
    "collapsed": false
   },
   "outputs": [
    {
     "name": "stdout",
     "output_type": "stream",
     "text": [
      "Slav quid agis? Magn expectaba m sicu pridie. OK bon t visur loquo tecum. Tec \n"
     ]
    }
   ],
   "source": [
    "text = \"Slave quid agis? Magna expectabant me sicut pridie. OK bonum te visurum loquor tecum. Tecum\"\n",
    "from cltk.stem.latin.stem import Stemmer\n",
    "stemmer = Stemmer()\n",
    "stemmed_text = stemmer.stem(text)\n",
    "print (stemmed_text)"
   ]
  },
  {
   "cell_type": "code",
   "execution_count": 48,
   "metadata": {
    "collapsed": false
   },
   "outputs": [
    {
     "name": "stdout",
     "output_type": "stream",
     "text": [
      "['Slav', 'quid', 'agis', '?', 'Mag', '-ne', 'expectaba', 'm', 'sicu', 'pridie', '.', 'OK', 'bo', '-ne', 't', 'visur', 'loquo', 'cum', 'te', '.', 'Tec']\n"
     ]
    }
   ],
   "source": [
    "# Tokenize words using CLTK's tokenizer\n",
    "from cltk.tokenize.word import WordTokenizer\n",
    "word_tokenizer = WordTokenizer('latin')\n",
    "stemmed_tokens = word_tokenizer.tokenize(stemmed_text)\n",
    "print (stemmed_tokens)"
   ]
  },
  {
   "cell_type": "code",
   "execution_count": 51,
   "metadata": {
    "collapsed": false
   },
   "outputs": [
    {
     "name": "stdout",
     "output_type": "stream",
     "text": [
      "17\n",
      "['Slav', 'quid', 'agis', 'Mag', '-ne', 'expectaba', 'm', 'sicu', 'pridie', 'OK', 'bo', '-ne', 't', 'visur', 'loquo', 'te', 'Tec']\n"
     ]
    }
   ],
   "source": [
    "# Count total words\n",
    "from cltk.stop.latin.stops import STOPS_LIST\n",
    "all_stemmed_words = [w for w in stemmed_tokens if not w in STOPS_LIST]\n",
    "all_stemmed_words = [w for w in all_stemmed_words if not w in punctuations]\n",
    "print (len(all_stemmed_words))\n",
    "print (all_stemmed_words)"
   ]
  },
  {
   "cell_type": "code",
   "execution_count": 52,
   "metadata": {
    "collapsed": false
   },
   "outputs": [
    {
     "name": "stdout",
     "output_type": "stream",
     "text": [
      "{'visur', 'Slav', 'OK', 'loquo', 'm', 'Tec', 'quid', 'expectaba', 'sicu', 'agis', 'bo', 'te', 'pridie', '-ne', 'Mag', 't'}\n",
      "16\n"
     ]
    }
   ],
   "source": [
    "# Count unique words\n",
    "unique_words = set(all_stemmed_words)\n",
    "print (unique_words)\n",
    "print (len(unique_words))"
   ]
  },
  {
   "cell_type": "code",
   "execution_count": 53,
   "metadata": {
    "collapsed": false
   },
   "outputs": [
    {
     "name": "stdout",
     "output_type": "stream",
     "text": [
      "0.9411764705882353\n"
     ]
    }
   ],
   "source": [
    "# Lexical diversity\n",
    "lexical_diversity = len(unique_words)/len(all_stemmed_words)\n",
    "print (lexical_diversity)"
   ]
  },
  {
   "cell_type": "code",
   "execution_count": null,
   "metadata": {
    "collapsed": true
   },
   "outputs": [],
   "source": []
  }
 ],
 "metadata": {
  "anaconda-cloud": {},
  "kernelspec": {
   "display_name": "Python [cltk_work]",
   "language": "python",
   "name": "Python [cltk_work]"
  },
  "language_info": {
   "codemirror_mode": {
    "name": "ipython",
    "version": 3
   },
   "file_extension": ".py",
   "mimetype": "text/x-python",
   "name": "python",
   "nbconvert_exporter": "python",
   "pygments_lexer": "ipython3",
   "version": "3.5.2"
  }
 },
 "nbformat": 4,
 "nbformat_minor": 0
}
